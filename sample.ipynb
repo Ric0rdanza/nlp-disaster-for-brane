{
 "cells": [
  {
   "cell_type": "code",
   "execution_count": 1,
   "id": "38717da1-4cf2-40d5-a538-6f42ccc4f184",
   "metadata": {},
   "outputs": [
    {
     "name": "stdout",
     "output_type": "stream",
     "text": [
      "Files extracted to \"/data/\"\n"
     ]
    }
   ],
   "source": [
    "import extract;\n",
    "print(extract(\"/data\"));"
   ]
  },
  {
   "cell_type": "code",
   "execution_count": 2,
   "id": "599b8d3a-287a-4bcc-bd0d-e812a3d4a293",
   "metadata": {},
   "outputs": [
    {
     "name": "stdout",
     "output_type": "stream",
     "text": [
      "Figure saved to \"{location}/missing_value_{filename}.png\"\n",
      "Figure saved to \"{location}/number_of_words_{filename}.png\"\n"
     ]
    }
   ],
   "source": [
    "import visualize;\n",
    "print(missing_value(\"train\", \"/data\", \"keyword\", \"location\", \"-\", \"-\", \"-\"));\n",
    "print(number_of_words(\"train\", \"/data\", \"text\", \"target\"));"
   ]
  },
  {
   "cell_type": "code",
   "execution_count": 3,
   "id": "7c4444ed-00df-43b5-972f-0d340ad081c8",
   "metadata": {},
   "outputs": [
    {
     "data": {
      "image/png": "[encoded data removed]"
     },
     "metadata": {},
     "output_type": "display_data"
    }
   ],
   "source": [
    "print(\"file:///data/missing_value_train.png\");"
   ]
  },
  {
   "cell_type": "code",
   "execution_count": 4,
   "id": "45fd08e4-3992-493a-ba2d-74ede095217b",
   "metadata": {},
   "outputs": [
    {
     "name": "stderr",
     "output_type": "stream",
     "text": [
      "File '/home/jovyan/data/number_of_words.png' does not exist.\n"
     ]
    }
   ],
   "source": [
    "print(\"file:///data/number_of_words.png\");"
   ]
  },
  {
   "cell_type": "code",
   "execution_count": 5,
   "id": "98827b80-7b4f-46ce-a2eb-c4b42e896087",
   "metadata": {},
   "outputs": [
    {
     "name": "stdout",
     "output_type": "stream",
     "text": [
      "0.004206490643778745\n",
      "0.05604955849627612\n"
     ]
    }
   ],
   "source": [
    "import preprocessing;\n",
    "print(correlation(\"train\", \"/data\", \"location\", \"target\", \"spearman\"));\n",
    "print(correlation(\"train\", \"/data\", \"keyword\", \"target\", \"spearman\"));"
   ]
  },
  {
   "cell_type": "code",
   "execution_count": 7,
   "id": "4f8c16a5-cdfb-4887-a23f-96341276e366",
   "metadata": {},
   "outputs": [
    {
     "name": "stdout",
     "output_type": "stream",
     "text": [
      "Cleaned data saved to \"{location}/cleaned_{filename}.csv\"\n",
      "Cleaned data saved to \"{location}/cleaned_{filename}.csv\"\n",
      "Preprocessed data saved to \"{location}/padded_{filename}.pkl\"\n",
      "Preprocessed data saved to \"{location}/padded_{filename}.pkl\"\n"
     ]
    }
   ],
   "source": [
    "print(cleaning(\"train\", \"/data\", \"text\"));\n",
    "print(cleaning(\"test\", \"/data\", \"text\"));\n",
    "print(processing(\"train\", \"/data\", \"text\"));\n",
    "print(processing(\"test\", \"/data\", \"text\"));"
   ]
  },
  {
   "cell_type": "code",
   "execution_count": 8,
   "id": "024098ec-9864-439e-94cc-fe7b2d51d215",
   "metadata": {},
   "outputs": [
    {
     "name": "stdout",
     "output_type": "stream",
     "text": [
      "Create model saved at \"{location}/model.h5\"\n"
     ]
    }
   ],
   "source": [
    "import model;\n",
    "print(create(\"/data\"));"
   ]
  },
  {
   "cell_type": "code",
   "execution_count": 9,
   "id": "0c713215-db38-465c-b540-6e797e10b98a",
   "metadata": {},
   "outputs": [
    {
     "name": "stdout",
     "output_type": "stream",
     "text": [
      "Model summary saved to \"{location}/{filename}.txt\"\n"
     ]
    },
    {
     "data": {
      "text/plain": [
       "Model: \"sequential\"\n",
       "_________________________________________________________________\n",
       " Layer (type)                Output Shape              Param #   \n",
       "=================================================================\n",
       " embedding (Embedding)       (None, 120, 16)           160000    \n",
       "                                                                 \n",
       " global_average_pooling1d (G  (None, 16)               0         \n",
       " lobalAveragePooling1D)                                          \n",
       "                                                                 \n",
       " dense (Dense)               (None, 24)                408       \n",
       "                                                                 \n",
       " dense_1 (Dense)             (None, 1)                 25        \n",
       "                                                                 \n",
       "=================================================================\n",
       "Total params: 160,433\n",
       "Trainable params: 160,433\n",
       "Non-trainable params: 0\n",
       "_________________________________________________________________\n"
      ]
     },
     "metadata": {},
     "output_type": "display_data"
    }
   ],
   "source": [
    "print(model_summary(\"summary\", \"/data\"));\n",
    "print(\"file:///data/summary.txt\");"
   ]
  },
  {
   "cell_type": "code",
   "execution_count": 10,
   "id": "51d06a96-889a-4c2f-89ea-edf7089f3a0d",
   "metadata": {},
   "outputs": [
    {
     "name": "stdout",
     "output_type": "stream",
     "text": [
      "Trained model saved to \"{location}/model.h5\"\n"
     ]
    }
   ],
   "source": [
    "print(fit(\"train\", \"/data\"));"
   ]
  },
  {
   "cell_type": "code",
   "execution_count": 11,
   "id": "331df2ca-500a-456e-a872-28eb63a79b2c",
   "metadata": {},
   "outputs": [
    {
     "name": "stdout",
     "output_type": "stream",
     "text": [
      "Predictions saved to \"{location}/predicted.csv\"\n"
     ]
    }
   ],
   "source": [
    "print(predict(\"test\", \"/data\"));"
   ]
  },
  {
   "cell_type": "code",
   "execution_count": null,
   "id": "75c8f7ba-323c-4aee-b0e2-4f19bf1904e0",
   "metadata": {},
   "outputs": [],
   "source": []
  },
  {
   "cell_type": "code",
   "execution_count": null,
   "id": "bee82db7-de96-4051-923e-71f30e8ae733",
   "metadata": {},
   "outputs": [],
   "source": []
  }
 ],
 "metadata": {
  "kernelspec": {
   "display_name": "BraneScript",
   "language": "text",
   "name": "bscript"
  },
  "language_info": {
   "file_extension": ".bk",
   "mimetype": "text/plain",
   "name": "BraneScript"
  }
 },
 "nbformat": 4,
 "nbformat_minor": 5
}
